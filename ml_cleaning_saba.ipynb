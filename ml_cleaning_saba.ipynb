{
 "cells": [
  {
   "cell_type": "code",
   "execution_count": 9,
   "metadata": {},
   "outputs": [],
   "source": [
    "import os\n",
    "import numpy as np\n",
    "import pandas as pd"
   ]
  },
  {
   "cell_type": "code",
   "execution_count": 12,
   "metadata": {},
   "outputs": [
    {
     "name": "stdout",
     "output_type": "stream",
     "text": [
      "2007\n",
      "2008\n",
      "2009\n",
      "2010\n",
      "2011\n",
      "2012\n",
      "2013\n",
      "2014\n",
      "2015\n",
      "2016\n",
      "2017\n"
     ]
    }
   ],
   "source": [
    "master_df = pd.DataFrame()\n",
    "\n",
    "for year in range(2007, 2018):\n",
    "    year = str(year)\n",
    "    print(year)\n",
    "    df_path = os.path.join('db', 'states_comparison.csv')\n",
    "    df_year = pd.read_csv(df_path)\n",
    "    df_pruned = df_year['Year']\n",
    "    master_df = pd.concat([master_df, df_pruned], ignore_index=True)\n",
    "output_path = os.path.join('db', 'year.csv')\n",
    "master_df.to_csv(output_path)"
   ]
  },
  {
   "cell_type": "code",
   "execution_count": 2,
   "metadata": {},
   "outputs": [
    {
     "data": {
      "text/html": [
       "<div>\n",
       "<style scoped>\n",
       "    .dataframe tbody tr th:only-of-type {\n",
       "        vertical-align: middle;\n",
       "    }\n",
       "\n",
       "    .dataframe tbody tr th {\n",
       "        vertical-align: top;\n",
       "    }\n",
       "\n",
       "    .dataframe thead th {\n",
       "        text-align: right;\n",
       "    }\n",
       "</style>\n",
       "<table border=\"1\" class=\"dataframe\">\n",
       "  <thead>\n",
       "    <tr style=\"text-align: right;\">\n",
       "      <th></th>\n",
       "      <th>Unnamed: 0</th>\n",
       "      <th>State</th>\n",
       "      <th>Year</th>\n",
       "      <th>Data</th>\n",
       "    </tr>\n",
       "  </thead>\n",
       "  <tbody>\n",
       "    <tr>\n",
       "      <td>0</td>\n",
       "      <td>0</td>\n",
       "      <td>Alaska</td>\n",
       "      <td>1960</td>\n",
       "      <td>61433.0</td>\n",
       "    </tr>\n",
       "    <tr>\n",
       "      <td>1</td>\n",
       "      <td>1</td>\n",
       "      <td>Alabama</td>\n",
       "      <td>1960</td>\n",
       "      <td>866594.0</td>\n",
       "    </tr>\n",
       "    <tr>\n",
       "      <td>2</td>\n",
       "      <td>2</td>\n",
       "      <td>Arkansas</td>\n",
       "      <td>1960</td>\n",
       "      <td>425974.0</td>\n",
       "    </tr>\n",
       "    <tr>\n",
       "      <td>3</td>\n",
       "      <td>3</td>\n",
       "      <td>Arizona</td>\n",
       "      <td>1960</td>\n",
       "      <td>282993.0</td>\n",
       "    </tr>\n",
       "    <tr>\n",
       "      <td>4</td>\n",
       "      <td>4</td>\n",
       "      <td>California</td>\n",
       "      <td>1960</td>\n",
       "      <td>3449919.0</td>\n",
       "    </tr>\n",
       "  </tbody>\n",
       "</table>\n",
       "</div>"
      ],
      "text/plain": [
       "   Unnamed: 0       State  Year       Data\n",
       "0           0      Alaska  1960    61433.0\n",
       "1           1     Alabama  1960   866594.0\n",
       "2           2    Arkansas  1960   425974.0\n",
       "3           3     Arizona  1960   282993.0\n",
       "4           4  California  1960  3449919.0"
      ]
     },
     "execution_count": 2,
     "metadata": {},
     "output_type": "execute_result"
    }
   ],
   "source": [
    "import os\n",
    "import pandas as pd\n",
    "\n",
    "input_path = os.path.join('db','consumed_energy.csv')\n",
    "renewed_df = pd.read_csv(input_path)\n",
    "renewed_df.head()"
   ]
  },
  {
   "cell_type": "code",
   "execution_count": 4,
   "metadata": {},
   "outputs": [
    {
     "data": {
      "text/plain": [
       "{'Alaska': 608135.0,\n",
       " 'Alabama': 1900936.0,\n",
       " 'Arkansas': 1057643.0,\n",
       " 'Arizona': 1475387.0,\n",
       " 'California': 7881348.0,\n",
       " 'Colorado': 1462864.0,\n",
       " 'Connecticut': 726389.0,\n",
       " 'District of Columbia': 167625.0,\n",
       " 'Delaware': 269779.0,\n",
       " 'Florida': 4208521.0,\n",
       " 'Georgia': 2802165.0,\n",
       " 'Hawaii': 283414.0,\n",
       " 'Iowa': 1558979.0,\n",
       " 'Idaho': 553888.0,\n",
       " 'Illinois': 3871546.0,\n",
       " 'Indiana': 2700478.0,\n",
       " 'Kansas': 1073232.0,\n",
       " 'Kentucky': 1658207.0,\n",
       " 'Louisiana': 4481816.0,\n",
       " 'Massachusetts': 1424156.0,\n",
       " 'Maryland': 1314739.0,\n",
       " 'Maine': 392002.0,\n",
       " 'Michigan': 2774512.0,\n",
       " 'Minnesota': 1832262.0,\n",
       " 'Missouri': 1726080.0,\n",
       " 'Mississippi': 1176354.0,\n",
       " 'Montana': 420636.0,\n",
       " 'North Carolina': 2503112.0,\n",
       " 'North Dakota': 631144.0,\n",
       " 'Nebraska': 876032.0,\n",
       " 'New Hampshire': 317495.0,\n",
       " 'New Jersey': 2134878.0,\n",
       " 'New Mexico': 683442.0,\n",
       " 'Nevada': 707205.0,\n",
       " 'New York': 3684137.0,\n",
       " 'Ohio': 3643714.0,\n",
       " 'Oklahoma': 1643837.0,\n",
       " 'Oregon': 1032245.0,\n",
       " 'Pennsylvania': 3807664.0,\n",
       " 'Rhode Island': 183872.0,\n",
       " 'South Carolina': 1643615.0,\n",
       " 'South Dakota': 384857.0,\n",
       " 'Tennessee': 2166502.0,\n",
       " 'Texas': 13365864.0,\n",
       " 'Utah': 828671.0,\n",
       " 'Virginia': 2302571.0,\n",
       " 'Vermont': 134794.0,\n",
       " 'Washington': 2096886.0,\n",
       " 'Wisconsin': 1805766.0,\n",
       " 'West Virginia': 756420.0,\n",
       " 'Wyoming': 512235.0}"
      ]
     },
     "execution_count": 4,
     "metadata": {},
     "output_type": "execute_result"
    }
   ],
   "source": [
    "state_dict = dict()\n",
    "\n",
    "for i, row in renewed_df.iterrows():\n",
    "    state_dict[row['State']] = row['Data']\n",
    "    \n",
    "state_dict"
   ]
  },
  {
   "cell_type": "code",
   "execution_count": 5,
   "metadata": {},
   "outputs": [
    {
     "data": {
      "text/plain": [
       "(4, 1)"
      ]
     },
     "execution_count": 5,
     "metadata": {},
     "output_type": "execute_result"
    }
   ],
   "source": [
    "import numpy as np\n",
    "a = np.array([[1], [2], [3], [4]])\n",
    "a.shape"
   ]
  },
  {
   "cell_type": "code",
   "execution_count": 6,
   "metadata": {},
   "outputs": [
    {
     "data": {
      "text/plain": [
       "array([[1, 2, 3, 4]])"
      ]
     },
     "execution_count": 6,
     "metadata": {},
     "output_type": "execute_result"
    }
   ],
   "source": [
    "a.reshape((1, 4))"
   ]
  },
  {
   "cell_type": "code",
   "execution_count": 7,
   "metadata": {},
   "outputs": [
    {
     "data": {
      "text/plain": [
       "[1, 2]"
      ]
     },
     "execution_count": 7,
     "metadata": {},
     "output_type": "execute_result"
    }
   ],
   "source": [
    "b = [1]\n",
    "b.append(2)\n",
    "b"
   ]
  },
  {
   "cell_type": "code",
   "execution_count": 9,
   "metadata": {},
   "outputs": [],
   "source": [
    "a = np.array([100, 80, 52])"
   ]
  },
  {
   "cell_type": "code",
   "execution_count": 10,
   "metadata": {},
   "outputs": [
    {
     "data": {
      "text/plain": [
       "dtype('int64')"
      ]
     },
     "execution_count": 10,
     "metadata": {},
     "output_type": "execute_result"
    }
   ],
   "source": [
    "a.dtype"
   ]
  },
  {
   "cell_type": "code",
   "execution_count": 11,
   "metadata": {},
   "outputs": [
    {
     "data": {
      "text/plain": [
       "['100', '80', '52']"
      ]
     },
     "execution_count": 11,
     "metadata": {},
     "output_type": "execute_result"
    }
   ],
   "source": [
    "b = [str(x) for x in a]\n",
    "b"
   ]
  },
  {
   "cell_type": "code",
   "execution_count": null,
   "metadata": {},
   "outputs": [],
   "source": []
  }
 ],
 "metadata": {
  "kernelspec": {
   "display_name": "Python [conda env:root] *",
   "language": "python",
   "name": "conda-root-py"
  },
  "language_info": {
   "codemirror_mode": {
    "name": "ipython",
    "version": 3
   },
   "file_extension": ".py",
   "mimetype": "text/x-python",
   "name": "python",
   "nbconvert_exporter": "python",
   "pygments_lexer": "ipython3",
   "version": "3.7.4"
  }
 },
 "nbformat": 4,
 "nbformat_minor": 2
}
